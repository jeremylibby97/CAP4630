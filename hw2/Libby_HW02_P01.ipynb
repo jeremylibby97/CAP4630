{
  "nbformat": 4,
  "nbformat_minor": 0,
  "metadata": {
    "colab": {
      "name": "Libby_HW02_P01.ipynb",
      "provenance": []
    },
    "kernelspec": {
      "name": "python3",
      "display_name": "Python 3"
    }
  },
  "cells": [
    {
      "cell_type": "code",
      "metadata": {
        "id": "7Z2nhmpp-Abu",
        "colab_type": "code",
        "colab": {}
      },
      "source": [
        "import numpy as np"
      ],
      "execution_count": 0,
      "outputs": []
    },
    {
      "cell_type": "code",
      "metadata": {
        "id": "vuI_TgQO9zzr",
        "colab_type": "code",
        "outputId": "b6bf7ad1-9f12-45a6-b249-c14567927d82",
        "colab": {
          "base_uri": "https://localhost:8080/",
          "height": 80
        }
      },
      "source": [
        "from keras.datasets import mnist\n",
        "\n",
        "(train_images_original, train_labels_original), (test_images_original, test_labels_original) = mnist.load_data()"
      ],
      "execution_count": 0,
      "outputs": [
        {
          "output_type": "stream",
          "text": [
            "Using TensorFlow backend.\n"
          ],
          "name": "stderr"
        },
        {
          "output_type": "display_data",
          "data": {
            "text/html": [
              "<p style=\"color: red;\">\n",
              "The default version of TensorFlow in Colab will soon switch to TensorFlow 2.x.<br>\n",
              "We recommend you <a href=\"https://www.tensorflow.org/guide/migrate\" target=\"_blank\">upgrade</a> now \n",
              "or ensure your notebook will continue to use TensorFlow 1.x via the <code>%tensorflow_version 1.x</code> magic:\n",
              "<a href=\"https://colab.research.google.com/notebooks/tensorflow_version.ipynb\" target=\"_blank\">more info</a>.</p>\n"
            ],
            "text/plain": [
              "<IPython.core.display.HTML object>"
            ]
          },
          "metadata": {
            "tags": []
          }
        }
      ]
    },
    {
      "cell_type": "code",
      "metadata": {
        "id": "BJBoGkeR92gW",
        "colab_type": "code",
        "colab": {}
      },
      "source": [
        "train_images = train_images_original.reshape((60000, 28 * 28))\n",
        "train_images = train_images.astype('float32') / 255\n",
        "\n",
        "test_images = test_images_original.reshape((10000, 28 * 28))\n",
        "test_images = test_images.astype('float32') / 255"
      ],
      "execution_count": 0,
      "outputs": []
    },
    {
      "cell_type": "code",
      "metadata": {
        "id": "_5bt7jWR94Wj",
        "colab_type": "code",
        "colab": {}
      },
      "source": [
        "from keras.utils import to_categorical\n",
        "\n",
        "train_labels = to_categorical(train_labels_original)\n",
        "test_labels = to_categorical(test_labels_original)"
      ],
      "execution_count": 0,
      "outputs": []
    },
    {
      "cell_type": "code",
      "metadata": {
        "id": "XRJJokkSUerd",
        "colab_type": "code",
        "cellView": "both",
        "colab": {}
      },
      "source": [
        "#@title Width and Height Calculator\n",
        "def calcWidthAndHeight(digit):\n",
        "  minX = 100\n",
        "  minY = 100\n",
        "  maxX = -1\n",
        "  maxY = -1\n",
        "\n",
        "  for i in range(28):\n",
        "    for j in range(28):\n",
        "      if (not digit[i][j] == 0):\n",
        "        if (i > maxY):\n",
        "          maxY = i\n",
        "        if (i < minY):\n",
        "          minY = i\n",
        "        if (j > maxX):\n",
        "          maxX = j\n",
        "        if (j < minX):\n",
        "          minX = j\n",
        "\n",
        "  return (maxX - minX + 1),(maxY - minY + 1)"
      ],
      "execution_count": 0,
      "outputs": []
    },
    {
      "cell_type": "code",
      "metadata": {
        "id": "V4Sv1wa8-OB1",
        "colab_type": "code",
        "cellView": "both",
        "colab": {}
      },
      "source": [
        "#@title Breadth First Search to find White Regions\n",
        "def BFS(img):\n",
        "  visited = np.zeros((28,28))\n",
        "\n",
        "  x,y = findWhitePoint(img, visited)\n",
        "  queue = [[x,y]]\n",
        "\n",
        "  cc = 1\n",
        "\n",
        "  while queue:\n",
        "    pos = queue.pop(0)\n",
        "    i = pos[0]\n",
        "    j = pos[1]\n",
        "    if visited[i][j] == 1:\n",
        "      continue\n",
        "    visited[i][j] = 1\n",
        "\n",
        "    queue = findEdges(i, j, img, queue, visited)\n",
        "    queue = removeVisited(queue,visited)\n",
        "\n",
        "    if not queue:\n",
        "      x,y = findWhitePoint(img, visited)\n",
        "      if (x == -1):\n",
        "        continue\n",
        "      else:\n",
        "        cc += 1\n",
        "        queue = [[x,y]]\n",
        "\n",
        "  return cc"
      ],
      "execution_count": 0,
      "outputs": []
    },
    {
      "cell_type": "code",
      "metadata": {
        "id": "RBBzAwXABmOL",
        "colab_type": "code",
        "cellView": "both",
        "colab": {}
      },
      "source": [
        "#@title BFS Helper - finding a white point\n",
        "def findWhitePoint(img,visited):\n",
        "  for i in range(28):\n",
        "    for j in range (28):\n",
        "      if (img[i][j] == 0 and visited[i][j] == 0):\n",
        "        return i,j\n",
        "  return -1,-1"
      ],
      "execution_count": 0,
      "outputs": []
    },
    {
      "cell_type": "code",
      "metadata": {
        "id": "I_2dRhrKLE5p",
        "colab_type": "code",
        "cellView": "both",
        "colab": {}
      },
      "source": [
        "#@title BFS Helper - finding the edges to a point\n",
        "def findEdges(i, j, img, queue, visited):\n",
        "  #all 8 directions from a point is an edge\n",
        "  #if that point is white, add it to the queue\n",
        "  \n",
        "  iP = i - 1\n",
        "  jP = j\n",
        "  if ((iP >= 0)) and (np.absolute(i - iP) <= 1) and (visited[iP][jP] == 0) and (img[iP][jP] == 0) and ([iP,jP] not in queue):\n",
        "    queue.append([iP,jP])\n",
        "\n",
        "  iP = i + 1\n",
        "  jP = j\n",
        "  if ((iP < 28)) and (np.absolute(i - iP) <= 1) and (visited[iP][jP] == 0) and (img[iP][jP] == 0) and ([iP,jP] not in queue):\n",
        "    queue.append([iP,jP])\n",
        "\n",
        "  iP = i\n",
        "  jP = j - 1\n",
        "  if ((jP >= 0)) and (np.absolute(j - jP) <= 1) and (visited[iP][jP] == 0) and (img[iP][jP] == 0) and ([iP,jP] not in queue):\n",
        "    queue.append([iP,jP])\n",
        "\n",
        "  iP = i\n",
        "  jP = j + 1\n",
        "  if ((jP < 28)) and (np.absolute(j - jP) <= 1) and (visited[iP][jP] == 0) and (img[iP][jP] == 0) and ([iP,jP] not in queue):\n",
        "    queue.append([iP,jP])\n",
        "\n",
        "  iP = i + 1\n",
        "  jP = j + 1\n",
        "  if ((iP < 28) and (jP < 28)) and (np.absolute(i - iP) <= 1 and np.absolute(j - jP) <= 1) and (visited[iP][jP] == 0) and (img[iP][jP] == 0) and ([iP,jP] not in queue):\n",
        "    queue.append([iP,jP])\n",
        "\n",
        "  iP = i - 1\n",
        "  jP = j + 1\n",
        "  if ((iP >= 0) and (jP < 28)) and (np.absolute(i - iP) <= 1 and np.absolute(j - jP) <= 1) and (visited[iP][jP] == 0) and (img[iP][jP] == 0) and ([iP,jP] not in queue):\n",
        "    queue.append([iP,jP])\n",
        "\n",
        "  iP = i + 1\n",
        "  jP = j - 1\n",
        "  if ((iP < 28) and (jP >= 0)) and (np.absolute(i - iP) <= 1 and np.absolute(j - jP) <= 1) and (visited[iP][jP] == 0) and (img[iP][jP] == 0) and ([iP,jP] not in queue):\n",
        "    queue.append([iP,jP])\n",
        "\n",
        "  iP = i - 1\n",
        "  jP = j - 1\n",
        "  if ((iP >= 0) and (jP >= 0)) and (np.absolute(i - iP) <= 1 and np.absolute(j - jP) <= 1) and (visited[iP][jP] == 0) and (img[iP][jP] == 0) and ([iP,jP] not in queue):\n",
        "    queue.append([iP,jP])\n",
        "\n",
        "  return queue"
      ],
      "execution_count": 0,
      "outputs": []
    },
    {
      "cell_type": "code",
      "metadata": {
        "id": "LLCKMvu7Lz2H",
        "colab_type": "code",
        "cellView": "both",
        "colab": {}
      },
      "source": [
        "#@title BFS Helper - removing visited points from the queue\n",
        "def removeVisited(queue, visited):\n",
        "  if not queue:\n",
        "    return\n",
        "\n",
        "  removeList = []\n",
        "  for i in range(len(queue)):\n",
        "    x = queue[i][0]\n",
        "    y = queue[i][1]\n",
        "\n",
        "    if visited[x][y] == 1:\n",
        "      removeList.append(i)\n",
        "\n",
        "  removeList.reverse()\n",
        "  for i in range(len(removeList)):\n",
        "    queue.pop(removeList[i])\n",
        "\n",
        "  return queue"
      ],
      "execution_count": 0,
      "outputs": []
    },
    {
      "cell_type": "code",
      "metadata": {
        "id": "Zx5nGEcgXVVw",
        "colab_type": "code",
        "cellView": "both",
        "colab": {}
      },
      "source": [
        "#@title Average Intensity Calculator\n",
        "def calcAverageIntensity(digit):\n",
        "  avgInt = 0\n",
        "  for i in range(28):\n",
        "    for j in range(28):\n",
        "      avgInt += digit[i][j]\n",
        "  avgInt = float(avgInt)\n",
        "  return avgInt / (28*28)"
      ],
      "execution_count": 0,
      "outputs": []
    },
    {
      "cell_type": "code",
      "metadata": {
        "id": "tHvFNzIw-OMG",
        "colab_type": "code",
        "colab": {}
      },
      "source": [
        "numImages = len(train_images)\n",
        "hcFeatures =[]\n",
        "\n",
        "for i in range(numImages):\n",
        "  digit = train_images_original[i]\n",
        "\n",
        "  width, height = calcWidthAndHeight(digit)\n",
        "  cc = BFS(digit)\n",
        "  avgInt = calcAverageIntensity(digit)\n",
        "\n",
        "  features = np.array([width,height,cc,avgInt])\n",
        "\n",
        "  hcTrain = np.concatenate((train_images[i],features), axis=0)\n",
        "  hcFeatures.append(hcTrain)\n",
        "\n",
        "hcFeatures = np.array(hcFeatures)"
      ],
      "execution_count": 0,
      "outputs": []
    },
    {
      "cell_type": "code",
      "metadata": {
        "id": "lC4uPJQmol39",
        "colab_type": "code",
        "colab": {}
      },
      "source": [
        "#add features to test images\n",
        "numImages = len(test_images)\n",
        "hcTestImages = []\n",
        "for i in range(numImages):\n",
        "  digit = test_images_original[i]\n",
        "\n",
        "  width, height = calcWidthAndHeight(digit)\n",
        "  cc = BFS(digit)\n",
        "  avgInt = calcAverageIntensity(digit)\n",
        "\n",
        "  features = np.array([width,height,cc,avgInt])\n",
        "\n",
        "  hcTest = np.concatenate((test_images[i],features), axis=0)\n",
        "  hcTestImages.append(hcTest)\n",
        "\n",
        "hcTestImages = np.array(hcTestImages)"
      ],
      "execution_count": 0,
      "outputs": []
    },
    {
      "cell_type": "code",
      "metadata": {
        "id": "nsE31jbOgGFa",
        "colab_type": "code",
        "outputId": "79e672e6-065e-4b31-881e-b207d42e1574",
        "colab": {
          "base_uri": "https://localhost:8080/",
          "height": 309
        }
      },
      "source": [
        "from keras import models\n",
        "from keras import layers\n",
        "\n",
        "network = models.Sequential()\n",
        "network.add(layers.Dense(10, activation='softmax', input_shape = (28*28+len(features),)))\n",
        "network.summary()"
      ],
      "execution_count": 0,
      "outputs": [
        {
          "output_type": "stream",
          "text": [
            "WARNING:tensorflow:From /usr/local/lib/python3.6/dist-packages/keras/backend/tensorflow_backend.py:66: The name tf.get_default_graph is deprecated. Please use tf.compat.v1.get_default_graph instead.\n",
            "\n",
            "WARNING:tensorflow:From /usr/local/lib/python3.6/dist-packages/keras/backend/tensorflow_backend.py:541: The name tf.placeholder is deprecated. Please use tf.compat.v1.placeholder instead.\n",
            "\n",
            "WARNING:tensorflow:From /usr/local/lib/python3.6/dist-packages/keras/backend/tensorflow_backend.py:4432: The name tf.random_uniform is deprecated. Please use tf.random.uniform instead.\n",
            "\n",
            "Model: \"sequential_1\"\n",
            "_________________________________________________________________\n",
            "Layer (type)                 Output Shape              Param #   \n",
            "=================================================================\n",
            "dense_1 (Dense)              (None, 10)                7890      \n",
            "=================================================================\n",
            "Total params: 7,890\n",
            "Trainable params: 7,890\n",
            "Non-trainable params: 0\n",
            "_________________________________________________________________\n"
          ],
          "name": "stdout"
        }
      ]
    },
    {
      "cell_type": "code",
      "metadata": {
        "id": "mzgDBxzLn70H",
        "colab_type": "code",
        "outputId": "3b6db8b2-fe75-40b9-f013-b9f7c6a7fcce",
        "colab": {
          "base_uri": "https://localhost:8080/",
          "height": 105
        }
      },
      "source": [
        "network.compile(optimizer='rmsprop',\n",
        "                loss='categorical_crossentropy',\n",
        "                metrics=['accuracy'])"
      ],
      "execution_count": 0,
      "outputs": [
        {
          "output_type": "stream",
          "text": [
            "WARNING:tensorflow:From /usr/local/lib/python3.6/dist-packages/keras/optimizers.py:793: The name tf.train.Optimizer is deprecated. Please use tf.compat.v1.train.Optimizer instead.\n",
            "\n",
            "WARNING:tensorflow:From /usr/local/lib/python3.6/dist-packages/keras/backend/tensorflow_backend.py:3576: The name tf.log is deprecated. Please use tf.math.log instead.\n",
            "\n"
          ],
          "name": "stdout"
        }
      ]
    },
    {
      "cell_type": "code",
      "metadata": {
        "id": "LOj50cJxn-II",
        "colab_type": "code",
        "outputId": "d60b8554-f76b-4944-da50-61b4e77a03dd",
        "colab": {
          "base_uri": "https://localhost:8080/",
          "height": 1000
        }
      },
      "source": [
        "epochs = 20\n",
        "history = network.fit(hcFeatures, \n",
        "                      train_labels, \n",
        "                      epochs=epochs, \n",
        "                      batch_size=128, \n",
        "                      validation_data=(hcTestImages, test_labels))"
      ],
      "execution_count": 0,
      "outputs": [
        {
          "output_type": "stream",
          "text": [
            "WARNING:tensorflow:From /usr/local/lib/python3.6/dist-packages/tensorflow_core/python/ops/math_grad.py:1424: where (from tensorflow.python.ops.array_ops) is deprecated and will be removed in a future version.\n",
            "Instructions for updating:\n",
            "Use tf.where in 2.0, which has the same broadcast rule as np.where\n",
            "WARNING:tensorflow:From /usr/local/lib/python3.6/dist-packages/keras/backend/tensorflow_backend.py:1033: The name tf.assign_add is deprecated. Please use tf.compat.v1.assign_add instead.\n",
            "\n",
            "WARNING:tensorflow:From /usr/local/lib/python3.6/dist-packages/keras/backend/tensorflow_backend.py:1020: The name tf.assign is deprecated. Please use tf.compat.v1.assign instead.\n",
            "\n",
            "WARNING:tensorflow:From /usr/local/lib/python3.6/dist-packages/keras/backend/tensorflow_backend.py:3005: The name tf.Session is deprecated. Please use tf.compat.v1.Session instead.\n",
            "\n",
            "Train on 60000 samples, validate on 10000 samples\n",
            "Epoch 1/20\n",
            "WARNING:tensorflow:From /usr/local/lib/python3.6/dist-packages/keras/backend/tensorflow_backend.py:190: The name tf.get_default_session is deprecated. Please use tf.compat.v1.get_default_session instead.\n",
            "\n",
            "WARNING:tensorflow:From /usr/local/lib/python3.6/dist-packages/keras/backend/tensorflow_backend.py:197: The name tf.ConfigProto is deprecated. Please use tf.compat.v1.ConfigProto instead.\n",
            "\n",
            "WARNING:tensorflow:From /usr/local/lib/python3.6/dist-packages/keras/backend/tensorflow_backend.py:207: The name tf.global_variables is deprecated. Please use tf.compat.v1.global_variables instead.\n",
            "\n",
            "WARNING:tensorflow:From /usr/local/lib/python3.6/dist-packages/keras/backend/tensorflow_backend.py:216: The name tf.is_variable_initialized is deprecated. Please use tf.compat.v1.is_variable_initialized instead.\n",
            "\n",
            "WARNING:tensorflow:From /usr/local/lib/python3.6/dist-packages/keras/backend/tensorflow_backend.py:223: The name tf.variables_initializer is deprecated. Please use tf.compat.v1.variables_initializer instead.\n",
            "\n",
            "60000/60000 [==============================] - 1s 25us/step - loss: 0.6273 - acc: 0.8372 - val_loss: 0.3156 - val_acc: 0.9125\n",
            "Epoch 2/20\n",
            "60000/60000 [==============================] - 1s 21us/step - loss: 0.2912 - acc: 0.9194 - val_loss: 0.2586 - val_acc: 0.9273\n",
            "Epoch 3/20\n",
            "60000/60000 [==============================] - 1s 21us/step - loss: 0.2541 - acc: 0.9287 - val_loss: 0.2397 - val_acc: 0.9339\n",
            "Epoch 4/20\n",
            "60000/60000 [==============================] - 1s 22us/step - loss: 0.2357 - acc: 0.9336 - val_loss: 0.2309 - val_acc: 0.9365\n",
            "Epoch 5/20\n",
            "60000/60000 [==============================] - 1s 22us/step - loss: 0.2245 - acc: 0.9360 - val_loss: 0.2179 - val_acc: 0.9383\n",
            "Epoch 6/20\n",
            "60000/60000 [==============================] - 1s 21us/step - loss: 0.2164 - acc: 0.9386 - val_loss: 0.2145 - val_acc: 0.9414\n",
            "Epoch 7/20\n",
            "60000/60000 [==============================] - 1s 21us/step - loss: 0.2108 - acc: 0.9399 - val_loss: 0.2111 - val_acc: 0.9418\n",
            "Epoch 8/20\n",
            "60000/60000 [==============================] - 1s 22us/step - loss: 0.2058 - acc: 0.9417 - val_loss: 0.2105 - val_acc: 0.9425\n",
            "Epoch 9/20\n",
            "60000/60000 [==============================] - 1s 22us/step - loss: 0.2026 - acc: 0.9426 - val_loss: 0.2069 - val_acc: 0.9427\n",
            "Epoch 10/20\n",
            "60000/60000 [==============================] - 1s 21us/step - loss: 0.1998 - acc: 0.9436 - val_loss: 0.2035 - val_acc: 0.9425\n",
            "Epoch 11/20\n",
            "60000/60000 [==============================] - 1s 21us/step - loss: 0.1972 - acc: 0.9438 - val_loss: 0.2041 - val_acc: 0.9440\n",
            "Epoch 12/20\n",
            "60000/60000 [==============================] - 1s 22us/step - loss: 0.1956 - acc: 0.9445 - val_loss: 0.2001 - val_acc: 0.9457\n",
            "Epoch 13/20\n",
            "60000/60000 [==============================] - 1s 21us/step - loss: 0.1935 - acc: 0.9451 - val_loss: 0.2016 - val_acc: 0.9457\n",
            "Epoch 14/20\n",
            "60000/60000 [==============================] - 1s 22us/step - loss: 0.1920 - acc: 0.9455 - val_loss: 0.2040 - val_acc: 0.9451\n",
            "Epoch 15/20\n",
            "60000/60000 [==============================] - 1s 22us/step - loss: 0.1907 - acc: 0.9464 - val_loss: 0.2068 - val_acc: 0.9423\n",
            "Epoch 16/20\n",
            "60000/60000 [==============================] - 1s 21us/step - loss: 0.1898 - acc: 0.9461 - val_loss: 0.2011 - val_acc: 0.9453\n",
            "Epoch 17/20\n",
            "60000/60000 [==============================] - 1s 22us/step - loss: 0.1885 - acc: 0.9468 - val_loss: 0.2038 - val_acc: 0.9446\n",
            "Epoch 18/20\n",
            "60000/60000 [==============================] - 1s 22us/step - loss: 0.1875 - acc: 0.9472 - val_loss: 0.2006 - val_acc: 0.9458\n",
            "Epoch 19/20\n",
            "60000/60000 [==============================] - 1s 21us/step - loss: 0.1867 - acc: 0.9477 - val_loss: 0.2008 - val_acc: 0.9452\n",
            "Epoch 20/20\n",
            "60000/60000 [==============================] - 1s 21us/step - loss: 0.1860 - acc: 0.9469 - val_loss: 0.2030 - val_acc: 0.9447\n"
          ],
          "name": "stdout"
        }
      ]
    },
    {
      "cell_type": "code",
      "metadata": {
        "id": "H_E8kPTWrbP4",
        "colab_type": "code",
        "colab": {}
      },
      "source": [
        "history_dict = history.history\n",
        "loss_values = history_dict['loss']\n",
        "test_loss_values = history_dict['val_loss']\n",
        "epochs_range = range(1, epochs + 1)"
      ],
      "execution_count": 0,
      "outputs": []
    },
    {
      "cell_type": "code",
      "metadata": {
        "id": "Tl7hm3ErrjGa",
        "colab_type": "code",
        "colab": {}
      },
      "source": [
        "import matplotlib.pyplot as plt"
      ],
      "execution_count": 0,
      "outputs": []
    },
    {
      "cell_type": "code",
      "metadata": {
        "id": "a0v1-rIprbZS",
        "colab_type": "code",
        "outputId": "a7099f51-5096-4340-83d8-bb96318e14f4",
        "colab": {
          "base_uri": "https://localhost:8080/",
          "height": 295
        }
      },
      "source": [
        "plt.plot(epochs_range, loss_values, 'bo', label='Training loss')\n",
        "plt.plot(epochs_range, test_loss_values, 'ro', label='Test loss')\n",
        "plt.title('Training and test loss')\n",
        "plt.xlabel('Epochs')\n",
        "plt.ylabel('Loss')\n",
        "plt.legend()\n",
        "plt.show()"
      ],
      "execution_count": 0,
      "outputs": [
        {
          "output_type": "display_data",
          "data": {
            "image/png": "[encoded data removed]",
            "text/plain": [
              "<Figure size 432x288 with 1 Axes>"
            ]
          },
          "metadata": {
            "tags": []
          }
        }
      ]
    },
    {
      "cell_type": "code",
      "metadata": {
        "id": "C5TwDe1krbii",
        "colab_type": "code",
        "colab": {}
      },
      "source": [
        "acc_values = history_dict['acc']\n",
        "test_acc_values = history_dict['val_acc']"
      ],
      "execution_count": 0,
      "outputs": []
    },
    {
      "cell_type": "code",
      "metadata": {
        "id": "AV880N6LrsYK",
        "colab_type": "code",
        "outputId": "cc9dabd6-ab36-44f3-b2cb-f31f044f1ec8",
        "colab": {
          "base_uri": "https://localhost:8080/",
          "height": 295
        }
      },
      "source": [
        "plt.plot(epochs_range, acc_values, 'bo', label='Training accuracy')\n",
        "plt.plot(epochs_range, test_acc_values, 'ro', label='Test accuracy')\n",
        "plt.title('Training and test accuracy')\n",
        "plt.xlabel('Epochs')\n",
        "plt.ylabel('Accuracy')\n",
        "plt.legend()\n",
        "plt.show()"
      ],
      "execution_count": 0,
      "outputs": [
        {
          "output_type": "display_data",
          "data": {
            "image/png": "[encoded data removed]",
            "text/plain": [
              "<Figure size 432x288 with 1 Axes>"
            ]
          },
          "metadata": {
            "tags": []
          }
        }
      ]
    }
  ]
}