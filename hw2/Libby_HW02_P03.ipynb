{
  "nbformat": 4,
  "nbformat_minor": 0,
  "metadata": {
    "colab": {
      "name": "Libby_HW02_P03.ipynb",
      "provenance": []
    },
    "kernelspec": {
      "name": "python2",
      "display_name": "Python 2"
    }
  },
  "cells": [
    {
      "cell_type": "markdown",
      "metadata": {
        "id": "Kf3cHUZYJX1x",
        "colab_type": "text"
      },
      "source": [
        "#Imports and Loading the CIFAR10 data set"
      ]
    },
    {
      "cell_type": "code",
      "metadata": {
        "id": "o4K3W5RDIJEv",
        "colab_type": "code",
        "outputId": "1b2f221a-026b-4406-ec2f-1d28358e6134",
        "colab": {
          "base_uri": "https://localhost:8080/",
          "height": 63
        }
      },
      "source": [
        "import tensorflow as tf\n",
        "from tensorflow import keras\n",
        "import matplotlib.pyplot as plt\n",
        "import numpy as np"
      ],
      "execution_count": 0,
      "outputs": [
        {
          "output_type": "display_data",
          "data": {
            "text/plain": [
              "<IPython.core.display.HTML object>"
            ],
            "text/html": [
              "<p style=\"color: red;\">\n",
              "The default version of TensorFlow in Colab will soon switch to TensorFlow 2.x.<br>\n",
              "We recommend you <a href=\"https://www.tensorflow.org/guide/migrate\" target=\"_blank\">upgrade</a> now \n",
              "or ensure your notebook will continue to use TensorFlow 1.x via the <code>%tensorflow_version 1.x</code> magic:\n",
              "<a href=\"https://colab.research.google.com/notebooks/tensorflow_version.ipynb\" target=\"_blank\">more info</a>.</p>\n"
            ]
          },
          "metadata": {
            "tags": []
          }
        }
      ]
    },
    {
      "cell_type": "code",
      "metadata": {
        "id": "LBwLQX7rH5AS",
        "colab_type": "code",
        "outputId": "6087b290-5b70-48c7-ca88-b2f1496937bd",
        "colab": {
          "base_uri": "https://localhost:8080/",
          "height": 34
        }
      },
      "source": [
        "from keras.datasets import cifar10\n",
        "\n",
        "(train_images, train_labels), (test_images, test_labels) = cifar10.load_data()"
      ],
      "execution_count": 0,
      "outputs": [
        {
          "output_type": "stream",
          "text": [
            "Using TensorFlow backend.\n"
          ],
          "name": "stderr"
        }
      ]
    },
    {
      "cell_type": "code",
      "metadata": {
        "id": "cnkcZGvVLmfB",
        "colab_type": "code",
        "colab": {}
      },
      "source": [
        "train_images = train_images.astype('float32')\n",
        "test_images = test_images.astype('float32')\n",
        "train_images = train_images / 255.0\n",
        "test_images = test_images / 255.0\n",
        "\n",
        "from keras.utils import to_categorical\n",
        "train_labels = to_categorical(train_labels)\n",
        "test_labels = to_categorical(test_labels)\n",
        "num_classes = test_labels.shape[1]"
      ],
      "execution_count": 0,
      "outputs": []
    },
    {
      "cell_type": "markdown",
      "metadata": {
        "id": "WpHt72fgIgu8",
        "colab_type": "text"
      },
      "source": [
        "#\"Overfit\" Model"
      ]
    },
    {
      "cell_type": "markdown",
      "metadata": {
        "id": "xpu7PkHtImbg",
        "colab_type": "text"
      },
      "source": [
        "##Build the \"Overfit\" Model"
      ]
    },
    {
      "cell_type": "code",
      "metadata": {
        "id": "63waQVCFIl7C",
        "colab_type": "code",
        "outputId": "57fcd7d9-0054-44a2-e470-99887d5322c2",
        "colab": {
          "base_uri": "https://localhost:8080/",
          "height": 714
        }
      },
      "source": [
        "from keras.preprocessing.image import ImageDataGenerator\n",
        "from tensorflow.keras.models import Sequential\n",
        "from tensorflow.keras.layers import Conv2D, Flatten, MaxPooling2D, Dropout, Dense, Activation\n",
        "from tensorflow.keras.layers import BatchNormalization\n",
        "from tensorflow.keras.constraints import max_norm\n",
        "from tensorflow.keras.optimizers import SGD\n",
        "\n",
        "model = tf.keras.Sequential()\n",
        "\n",
        "model.add(Conv2D(32, (3, 3), activation='relu', input_shape=train_images.shape[1:]))\n",
        "model.add(MaxPooling2D((2, 2)))\n",
        "model.add(Conv2D(64, (3, 3), activation='relu'))\n",
        "model.add(MaxPooling2D(2, 2))\n",
        "model.add(Conv2D(64, (3, 3), activation='relu'))\n",
        "model.add(Flatten())\n",
        "model.add(Dense(64, activation='relu'))\n",
        "model.add(Dense(10, activation='softmax'))\n",
        "\n",
        "model.compile(optimizer='rmsprop', \n",
        "              loss='categorical_crossentropy', \n",
        "              metrics=['accuracy'])\n",
        "\n",
        "epochs = 20\n",
        "batch_size = 32\n",
        "history = model.fit(train_images, train_labels, batch_size=batch_size, epochs=epochs, validation_data=(test_images,test_labels))\n"
      ],
      "execution_count": 0,
      "outputs": [
        {
          "output_type": "stream",
          "text": [
            "Train on 50000 samples, validate on 10000 samples\n",
            "Epoch 1/20\n",
            "50000/50000 [==============================] - 80s 2ms/sample - loss: 1.5213 - acc: 0.4493 - val_loss: 1.2689 - val_acc: 0.5466\n",
            "Epoch 2/20\n",
            "50000/50000 [==============================] - 78s 2ms/sample - loss: 1.1147 - acc: 0.6082 - val_loss: 1.0589 - val_acc: 0.6295\n",
            "Epoch 3/20\n",
            "50000/50000 [==============================] - 78s 2ms/sample - loss: 0.9517 - acc: 0.6702 - val_loss: 0.9651 - val_acc: 0.6629\n",
            "Epoch 4/20\n",
            "50000/50000 [==============================] - 78s 2ms/sample - loss: 0.8447 - acc: 0.7058 - val_loss: 0.9073 - val_acc: 0.6878\n",
            "Epoch 5/20\n",
            "50000/50000 [==============================] - 79s 2ms/sample - loss: 0.7669 - acc: 0.7345 - val_loss: 0.9367 - val_acc: 0.6750\n",
            "Epoch 6/20\n",
            "50000/50000 [==============================] - 80s 2ms/sample - loss: 0.7086 - acc: 0.7544 - val_loss: 0.9957 - val_acc: 0.6745\n",
            "Epoch 7/20\n",
            "50000/50000 [==============================] - 80s 2ms/sample - loss: 0.6518 - acc: 0.7726 - val_loss: 1.0232 - val_acc: 0.6762\n",
            "Epoch 8/20\n",
            "50000/50000 [==============================] - 80s 2ms/sample - loss: 0.6105 - acc: 0.7880 - val_loss: 0.8620 - val_acc: 0.7187\n",
            "Epoch 9/20\n",
            "50000/50000 [==============================] - 81s 2ms/sample - loss: 0.5723 - acc: 0.8018 - val_loss: 0.9182 - val_acc: 0.7141\n",
            "Epoch 10/20\n",
            "50000/50000 [==============================] - 79s 2ms/sample - loss: 0.5364 - acc: 0.8149 - val_loss: 1.1023 - val_acc: 0.6735\n",
            "Epoch 11/20\n",
            "50000/50000 [==============================] - 79s 2ms/sample - loss: 0.5061 - acc: 0.8274 - val_loss: 1.0770 - val_acc: 0.6983\n",
            "Epoch 12/20\n",
            "50000/50000 [==============================] - 81s 2ms/sample - loss: 0.4819 - acc: 0.8359 - val_loss: 1.0141 - val_acc: 0.7178\n",
            "Epoch 13/20\n",
            "50000/50000 [==============================] - 80s 2ms/sample - loss: 0.4646 - acc: 0.8410 - val_loss: 1.2880 - val_acc: 0.7025\n",
            "Epoch 14/20\n",
            "50000/50000 [==============================] - 80s 2ms/sample - loss: 0.4488 - acc: 0.8475 - val_loss: 1.1593 - val_acc: 0.6995\n",
            "Epoch 15/20\n",
            "50000/50000 [==============================] - 80s 2ms/sample - loss: 0.4338 - acc: 0.8522 - val_loss: 1.2044 - val_acc: 0.7131\n",
            "Epoch 16/20\n",
            "50000/50000 [==============================] - 80s 2ms/sample - loss: 0.4244 - acc: 0.8578 - val_loss: 1.3103 - val_acc: 0.6880\n",
            "Epoch 17/20\n",
            "50000/50000 [==============================] - 80s 2ms/sample - loss: 0.4170 - acc: 0.8598 - val_loss: 1.1855 - val_acc: 0.7009\n",
            "Epoch 18/20\n",
            "50000/50000 [==============================] - 79s 2ms/sample - loss: 0.4151 - acc: 0.8653 - val_loss: 1.4931 - val_acc: 0.6967\n",
            "Epoch 19/20\n",
            "50000/50000 [==============================] - 79s 2ms/sample - loss: 0.4042 - acc: 0.8686 - val_loss: 1.4320 - val_acc: 0.7114\n",
            "Epoch 20/20\n",
            "50000/50000 [==============================] - 79s 2ms/sample - loss: 0.4092 - acc: 0.8681 - val_loss: 1.7209 - val_acc: 0.6815\n"
          ],
          "name": "stdout"
        }
      ]
    },
    {
      "cell_type": "markdown",
      "metadata": {
        "id": "AqwkU5cHKGve",
        "colab_type": "text"
      },
      "source": [
        "##Evaluate \"Overfit\" Accuracy"
      ]
    },
    {
      "cell_type": "code",
      "metadata": {
        "id": "tQm6gZsCKEwm",
        "colab_type": "code",
        "outputId": "b176261c-83e7-47f1-a268-6782422324f9",
        "colab": {
          "base_uri": "https://localhost:8080/",
          "height": 51
        }
      },
      "source": [
        "test_loss, test_acc = model.evaluate(test_images, test_labels)\n",
        "\n",
        "print('Test accuracy:', test_acc)"
      ],
      "execution_count": 0,
      "outputs": [
        {
          "output_type": "stream",
          "text": [
            "10000/10000 [==============================] - 5s 533us/sample - loss: 1.7209 - acc: 0.6815\n",
            "('Test accuracy:', 0.6815)\n"
          ],
          "name": "stdout"
        }
      ]
    },
    {
      "cell_type": "markdown",
      "metadata": {
        "id": "qeK3bvcEKMRg",
        "colab_type": "text"
      },
      "source": [
        "##\"Overfit\" Training/test loss/accuracy during training"
      ]
    },
    {
      "cell_type": "code",
      "metadata": {
        "id": "VhtYFp1nKFAp",
        "colab_type": "code",
        "colab": {}
      },
      "source": [
        "history_dict = history.history\n",
        "loss_values = history_dict['loss']\n",
        "test_loss_values = history_dict['val_loss']\n",
        "epochs_range = range(1, epochs+1)"
      ],
      "execution_count": 0,
      "outputs": []
    },
    {
      "cell_type": "code",
      "metadata": {
        "id": "7Xig5fEhKFGV",
        "colab_type": "code",
        "outputId": "53826ce6-cb1a-43f0-86a9-4b956d053348",
        "colab": {
          "base_uri": "https://localhost:8080/",
          "height": 295
        }
      },
      "source": [
        "plt.plot(epochs_range, loss_values, 'bo', label='Training loss')\n",
        "plt.plot(epochs_range, test_loss_values, 'ro', label='Test loss')\n",
        "plt.title('\\\"Overfit\\\" - Training and test loss')\n",
        "plt.xlabel('Epochs')\n",
        "plt.ylabel('Loss')\n",
        "plt.legend()\n",
        "plt.show()"
      ],
      "execution_count": 0,
      "outputs": [
        {
          "output_type": "display_data",
          "data": {
            "image/png": "[encoded data removed]",
            "text/plain": [
              "<Figure size 432x288 with 1 Axes>"
            ]
          },
          "metadata": {
            "tags": []
          }
        }
      ]
    },
    {
      "cell_type": "code",
      "metadata": {
        "id": "oFeCum9qKXrx",
        "colab_type": "code",
        "colab": {}
      },
      "source": [
        "acc_values = history_dict['acc']\n",
        "test_acc_values = history_dict['val_acc']"
      ],
      "execution_count": 0,
      "outputs": []
    },
    {
      "cell_type": "code",
      "metadata": {
        "id": "ZKH0NzGKKX0T",
        "colab_type": "code",
        "outputId": "0c50dda9-dd6f-44cc-eae7-9401abc5c294",
        "colab": {
          "base_uri": "https://localhost:8080/",
          "height": 295
        }
      },
      "source": [
        "plt.plot(epochs_range, acc_values, 'bo', label='Training accuracy')\n",
        "plt.plot(epochs_range, test_acc_values, 'ro', label='Test accuracy')\n",
        "plt.title('\\\"Overfit\\\" - Training and test accuracy')\n",
        "plt.xlabel('Epochs')\n",
        "plt.ylabel('Accuracy')\n",
        "plt.legend()\n",
        "plt.show()"
      ],
      "execution_count": 0,
      "outputs": [
        {
          "output_type": "display_data",
          "data": {
            "image/png": "[encoded data removed]",
            "text/plain": [
              "<Figure size 432x288 with 1 Axes>"
            ]
          },
          "metadata": {
            "tags": []
          }
        }
      ]
    },
    {
      "cell_type": "markdown",
      "metadata": {
        "id": "rw88rPxzQJRR",
        "colab_type": "text"
      },
      "source": [
        "#\"Underfit\" Model"
      ]
    },
    {
      "cell_type": "markdown",
      "metadata": {
        "colab_type": "text",
        "id": "T6zmnnxaQDGD"
      },
      "source": [
        "##Build the \"Underfit\" Model"
      ]
    },
    {
      "cell_type": "code",
      "metadata": {
        "colab_type": "code",
        "outputId": "917697e1-ce34-4ea3-851a-5f6edfa66962",
        "id": "wK4hpZHtQDGM",
        "colab": {
          "base_uri": "https://localhost:8080/",
          "height": 170
        }
      },
      "source": [
        "model = tf.keras.Sequential()\n",
        "\n",
        "model.add(Conv2D(32, (3, 3), activation='relu', input_shape=train_images.shape[1:]))\n",
        "model.add(MaxPooling2D((2, 2)))\n",
        "model.add(Flatten())\n",
        "model.add(Dense(64, activation='relu'))\n",
        "model.add(Dense(10, activation='softmax'))\n",
        "\n",
        "model.compile(optimizer='rmsprop', \n",
        "              loss='categorical_crossentropy', \n",
        "              metrics=['accuracy'])\n",
        "\n",
        "epochs = 4\n",
        "batch_size = 64\n",
        "history = model.fit(train_images, train_labels, batch_size=batch_size, epochs=epochs, validation_data=(test_images,test_labels))\n"
      ],
      "execution_count": 0,
      "outputs": [
        {
          "output_type": "stream",
          "text": [
            "Train on 50000 samples, validate on 10000 samples\n",
            "Epoch 1/4\n",
            "50000/50000 [==============================] - 40s 809us/sample - loss: 1.6385 - acc: 0.4197 - val_loss: 1.4841 - val_acc: 0.4751\n",
            "Epoch 2/4\n",
            "50000/50000 [==============================] - 37s 750us/sample - loss: 1.3080 - acc: 0.5403 - val_loss: 1.2522 - val_acc: 0.5592\n",
            "Epoch 3/4\n",
            "50000/50000 [==============================] - 37s 745us/sample - loss: 1.1913 - acc: 0.5841 - val_loss: 1.2603 - val_acc: 0.5451\n",
            "Epoch 4/4\n",
            "50000/50000 [==============================] - 37s 747us/sample - loss: 1.1095 - acc: 0.6142 - val_loss: 1.2091 - val_acc: 0.5799\n"
          ],
          "name": "stdout"
        }
      ]
    },
    {
      "cell_type": "markdown",
      "metadata": {
        "colab_type": "text",
        "id": "oB3CyTtCQDGc"
      },
      "source": [
        "##Evaluate \"Underfit\" Accuracy"
      ]
    },
    {
      "cell_type": "code",
      "metadata": {
        "colab_type": "code",
        "outputId": "e3ced78c-cb2c-4e2e-d3a4-91b1515e76d6",
        "id": "V4Pk0ZgXQDGf",
        "colab": {
          "base_uri": "https://localhost:8080/",
          "height": 51
        }
      },
      "source": [
        "test_loss, test_acc = model.evaluate(test_images, test_labels)\n",
        "\n",
        "print('Test accuracy:', test_acc)"
      ],
      "execution_count": 0,
      "outputs": [
        {
          "output_type": "stream",
          "text": [
            "10000/10000 [==============================] - 3s 345us/sample - loss: 1.2091 - acc: 0.5799\n",
            "('Test accuracy:', 0.5799)\n"
          ],
          "name": "stdout"
        }
      ]
    },
    {
      "cell_type": "markdown",
      "metadata": {
        "colab_type": "text",
        "id": "_VATQ5-4QDGq"
      },
      "source": [
        "##\"Underfit\" Training/test loss/accuracy during training"
      ]
    },
    {
      "cell_type": "code",
      "metadata": {
        "colab_type": "code",
        "id": "ujqh_q-9QDGt",
        "colab": {}
      },
      "source": [
        "history_dict = history.history\n",
        "loss_values = history_dict['loss']\n",
        "test_loss_values = history_dict['val_loss']\n",
        "epochs_range = range(1, epochs+1)"
      ],
      "execution_count": 0,
      "outputs": []
    },
    {
      "cell_type": "code",
      "metadata": {
        "colab_type": "code",
        "outputId": "32a94be0-fc43-4e06-d239-175ff9aa3de4",
        "id": "Z9pIgGatQDG1",
        "colab": {
          "base_uri": "https://localhost:8080/",
          "height": 295
        }
      },
      "source": [
        "plt.plot(epochs_range, loss_values, 'bo', label='Training loss')\n",
        "plt.plot(epochs_range, test_loss_values, 'ro', label='Test loss')\n",
        "plt.title('\\\"Underfit\\\" - Training and test loss')\n",
        "plt.xlabel('Epochs')\n",
        "plt.ylabel('Loss')\n",
        "plt.legend()\n",
        "plt.show()"
      ],
      "execution_count": 0,
      "outputs": [
        {
          "output_type": "display_data",
          "data": {
            "image/png": "[encoded data removed]",
            "text/plain": [
              "<Figure size 432x288 with 1 Axes>"
            ]
          },
          "metadata": {
            "tags": []
          }
        }
      ]
    },
    {
      "cell_type": "code",
      "metadata": {
        "colab_type": "code",
        "id": "KD-6p0tOQDG_",
        "colab": {}
      },
      "source": [
        "acc_values = history_dict['acc']\n",
        "test_acc_values = history_dict['val_acc']"
      ],
      "execution_count": 0,
      "outputs": []
    },
    {
      "cell_type": "code",
      "metadata": {
        "colab_type": "code",
        "outputId": "ba5a521d-247c-4ec9-ad10-1c52fb493bdb",
        "id": "G-hmKRQMQDHG",
        "colab": {
          "base_uri": "https://localhost:8080/",
          "height": 295
        }
      },
      "source": [
        "plt.plot(epochs_range, acc_values, 'bo', label='Training accuracy')\n",
        "plt.plot(epochs_range, test_acc_values, 'ro', label='Test accuracy')\n",
        "plt.title('\\\"Underfit\\\" - Training and test accuracy')\n",
        "plt.xlabel('Epochs')\n",
        "plt.ylabel('Accuracy')\n",
        "plt.legend()\n",
        "plt.show()"
      ],
      "execution_count": 0,
      "outputs": [
        {
          "output_type": "display_data",
          "data": {
            "image/png": "[encoded data removed]",
            "text/plain": [
              "<Figure size 432x288 with 1 Axes>"
            ]
          },
          "metadata": {
            "tags": []
          }
        }
      ]
    },
    {
      "cell_type": "markdown",
      "metadata": {
        "id": "aq4Ydi4IRN8a",
        "colab_type": "text"
      },
      "source": [
        "#\"Just Right\" Model"
      ]
    },
    {
      "cell_type": "markdown",
      "metadata": {
        "colab_type": "text",
        "id": "khEd66H7RM2s"
      },
      "source": [
        "##Build the \"Just Right\" Model"
      ]
    },
    {
      "cell_type": "code",
      "metadata": {
        "colab_type": "code",
        "outputId": "abfaeeac-12b0-4d8a-dcc3-9ba971c0fc01",
        "id": "YPS4kUXcRM2x",
        "colab": {
          "base_uri": "https://localhost:8080/",
          "height": 374
        }
      },
      "source": [
        "model = tf.keras.Sequential()\n",
        "\n",
        "model.add(Conv2D(32, (3, 3), activation='relu', input_shape=train_images.shape[1:]))\n",
        "model.add(MaxPooling2D((2, 2)))\n",
        "model.add(Conv2D(64, (3, 3), activation='relu'))\n",
        "model.add(MaxPooling2D(2, 2))\n",
        "model.add(Conv2D(64, (3, 3), activation='relu'))\n",
        "model.add(Dropout(0.25))\n",
        "model.add(Flatten())\n",
        "model.add(Dense(64, activation='relu'))\n",
        "model.add(Dropout(0.5))\n",
        "model.add(Dense(10, activation='softmax'))\n",
        "\n",
        "model.compile(optimizer='rmsprop', \n",
        "              loss='categorical_crossentropy', \n",
        "              metrics=['accuracy'])\n",
        "\n",
        "epochs = 10\n",
        "batch_size = 32\n",
        "history = model.fit(train_images, train_labels, batch_size=batch_size, epochs=epochs, validation_data=(test_images,test_labels))\n"
      ],
      "execution_count": 0,
      "outputs": [
        {
          "output_type": "stream",
          "text": [
            "Train on 50000 samples, validate on 10000 samples\n",
            "Epoch 1/10\n",
            "50000/50000 [==============================] - 83s 2ms/sample - loss: 1.7092 - acc: 0.3788 - val_loss: 1.3005 - val_acc: 0.5218\n",
            "Epoch 2/10\n",
            "50000/50000 [==============================] - 80s 2ms/sample - loss: 1.3623 - acc: 0.5231 - val_loss: 1.2638 - val_acc: 0.5563\n",
            "Epoch 3/10\n",
            "50000/50000 [==============================] - 80s 2ms/sample - loss: 1.2325 - acc: 0.5749 - val_loss: 1.0636 - val_acc: 0.6309\n",
            "Epoch 4/10\n",
            "50000/50000 [==============================] - 80s 2ms/sample - loss: 1.1669 - acc: 0.6027 - val_loss: 1.0506 - val_acc: 0.6477\n",
            "Epoch 5/10\n",
            "50000/50000 [==============================] - 80s 2ms/sample - loss: 1.1427 - acc: 0.6168 - val_loss: 1.0165 - val_acc: 0.6515\n",
            "Epoch 6/10\n",
            "50000/50000 [==============================] - 81s 2ms/sample - loss: 1.1510 - acc: 0.6189 - val_loss: 1.0941 - val_acc: 0.6276\n",
            "Epoch 7/10\n",
            "50000/50000 [==============================] - 79s 2ms/sample - loss: 1.1677 - acc: 0.6163 - val_loss: 1.1745 - val_acc: 0.6154\n",
            "Epoch 8/10\n",
            "50000/50000 [==============================] - 79s 2ms/sample - loss: 1.2049 - acc: 0.6055 - val_loss: 1.1664 - val_acc: 0.6125\n",
            "Epoch 9/10\n",
            "50000/50000 [==============================] - 79s 2ms/sample - loss: 1.2479 - acc: 0.5925 - val_loss: 1.2886 - val_acc: 0.6023\n",
            "Epoch 10/10\n",
            "50000/50000 [==============================] - 80s 2ms/sample - loss: 1.2853 - acc: 0.5840 - val_loss: 1.2435 - val_acc: 0.5664\n"
          ],
          "name": "stdout"
        }
      ]
    },
    {
      "cell_type": "markdown",
      "metadata": {
        "colab_type": "text",
        "id": "mFXGcQV5RM23"
      },
      "source": [
        "##Evaluate \"Just Right\" Accuracy"
      ]
    },
    {
      "cell_type": "code",
      "metadata": {
        "colab_type": "code",
        "outputId": "0788ae42-05d9-461e-b734-5c1736ba0d33",
        "id": "R9TGo8OoRM25",
        "colab": {
          "base_uri": "https://localhost:8080/",
          "height": 51
        }
      },
      "source": [
        "test_loss, test_acc = model.evaluate(test_images, test_labels)\n",
        "\n",
        "print('Test accuracy:', test_acc)"
      ],
      "execution_count": 0,
      "outputs": [
        {
          "output_type": "stream",
          "text": [
            "10000/10000 [==============================] - 5s 510us/sample - loss: 1.2435 - acc: 0.5664\n",
            "('Test accuracy:', 0.5664)\n"
          ],
          "name": "stdout"
        }
      ]
    },
    {
      "cell_type": "markdown",
      "metadata": {
        "colab_type": "text",
        "id": "Ajsl1-UcRM29"
      },
      "source": [
        "##\"Just Right\" Training/test loss/accuracy during training"
      ]
    },
    {
      "cell_type": "code",
      "metadata": {
        "colab_type": "code",
        "id": "tx367IwKRM2-",
        "colab": {}
      },
      "source": [
        "history_dict = history.history\n",
        "loss_values = history_dict['loss']\n",
        "test_loss_values = history_dict['val_loss']\n",
        "epochs_range = range(1, epochs+1)"
      ],
      "execution_count": 0,
      "outputs": []
    },
    {
      "cell_type": "code",
      "metadata": {
        "colab_type": "code",
        "outputId": "291a05d5-2824-4204-b2dd-a7093d0f5131",
        "id": "jR4gUnUZRM3A",
        "colab": {
          "base_uri": "https://localhost:8080/",
          "height": 295
        }
      },
      "source": [
        "plt.plot(epochs_range, loss_values, 'bo', label='Training loss')\n",
        "plt.plot(epochs_range, test_loss_values, 'ro', label='Test loss')\n",
        "plt.title('\\\"Just Right\\\" - Training and test loss')\n",
        "plt.xlabel('Epochs')\n",
        "plt.ylabel('Loss')\n",
        "plt.legend()\n",
        "plt.show()"
      ],
      "execution_count": 0,
      "outputs": [
        {
          "output_type": "display_data",
          "data": {
            "image/png": "[encoded data removed]",
            "text/plain": [
              "<Figure size 432x288 with 1 Axes>"
            ]
          },
          "metadata": {
            "tags": []
          }
        }
      ]
    },
    {
      "cell_type": "code",
      "metadata": {
        "colab_type": "code",
        "id": "lMagerctRM3F",
        "colab": {}
      },
      "source": [
        "acc_values = history_dict['acc']\n",
        "test_acc_values = history_dict['val_acc']"
      ],
      "execution_count": 0,
      "outputs": []
    },
    {
      "cell_type": "code",
      "metadata": {
        "colab_type": "code",
        "outputId": "6b5de2b2-bc27-4ed4-e9a0-145c04c62ada",
        "id": "oDlZ08OpRM3I",
        "colab": {
          "base_uri": "https://localhost:8080/",
          "height": 295
        }
      },
      "source": [
        "plt.plot(epochs_range, acc_values, 'bo', label='Training accuracy')\n",
        "plt.plot(epochs_range, test_acc_values, 'ro', label='Test accuracy')\n",
        "plt.title('\\\"Just Right\\\" - Training and test accuracy')\n",
        "plt.xlabel('Epochs')\n",
        "plt.ylabel('Accuracy')\n",
        "plt.legend()\n",
        "plt.show()"
      ],
      "execution_count": 0,
      "outputs": [
        {
          "output_type": "display_data",
          "data": {
            "image/png": "[encoded data removed]",
            "text/plain": [
              "<Figure size 432x288 with 1 Axes>"
            ]
          },
          "metadata": {
            "tags": []
          }
        }
      ]
    }
  ]
}