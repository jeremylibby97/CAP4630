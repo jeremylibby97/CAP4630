{
  "nbformat": 4,
  "nbformat_minor": 0,
  "metadata": {
    "colab": {
      "name": "Libby_HW02_P02.ipynb",
      "provenance": [],
      "collapsed_sections": []
    },
    "kernelspec": {
      "name": "python3",
      "display_name": "Python 3"
    }
  },
  "cells": [
    {
      "cell_type": "markdown",
      "metadata": {
        "id": "rt44vyY1xW9b",
        "colab_type": "text"
      },
      "source": [
        "# MNIST fashion data set"
      ]
    },
    {
      "cell_type": "markdown",
      "metadata": {
        "id": "l34GNy7tyNks",
        "colab_type": "text"
      },
      "source": [
        "## Loading the MNIST fashion data set"
      ]
    },
    {
      "cell_type": "code",
      "metadata": {
        "id": "FSJyddqGexl5",
        "colab_type": "code",
        "colab": {}
      },
      "source": [
        "import tensorflow as tf\n",
        "from tensorflow import keras\n",
        "\n",
        "fashion_mnist = keras.datasets.fashion_mnist\n",
        "\n",
        "(train_images, train_labels), (test_images, test_labels) = fashion_mnist.load_data()"
      ],
      "execution_count": 0,
      "outputs": []
    },
    {
      "cell_type": "code",
      "metadata": {
        "id": "aa2r6ZRcO7XV",
        "colab_type": "code",
        "colab": {}
      },
      "source": [
        "class_names = ['T-shirt/top', 'Trouser', 'Pullover', 'Dress', 'Coat',\n",
        "               'Sandal', 'Shirt', 'Sneaker', 'Bag', 'Ankle boot']"
      ],
      "execution_count": 0,
      "outputs": []
    },
    {
      "cell_type": "markdown",
      "metadata": {
        "id": "dmQ2siA7ywPx",
        "colab_type": "text"
      },
      "source": [
        "## Displaying some MNIST fashion items"
      ]
    },
    {
      "cell_type": "code",
      "metadata": {
        "id": "uSj4HIhWzBxl",
        "colab_type": "code",
        "colab": {}
      },
      "source": [
        "import matplotlib.pyplot as plt\n",
        "import numpy as np"
      ],
      "execution_count": 0,
      "outputs": []
    },
    {
      "cell_type": "markdown",
      "metadata": {
        "id": "JC5iBT_0OCSl",
        "colab_type": "text"
      },
      "source": [
        "## Preprocess the data"
      ]
    },
    {
      "cell_type": "code",
      "metadata": {
        "id": "inugSPsZNytV",
        "colab_type": "code",
        "colab": {}
      },
      "source": [
        "train_images = train_images / 255.0\n",
        "test_images = test_images / 255.0"
      ],
      "execution_count": 0,
      "outputs": []
    },
    {
      "cell_type": "markdown",
      "metadata": {
        "id": "Et1jjrYZIzF_",
        "colab_type": "text"
      },
      "source": [
        "##Underfit Model"
      ]
    },
    {
      "cell_type": "markdown",
      "metadata": {
        "id": "96kFHJUV83zv",
        "colab_type": "text"
      },
      "source": [
        "###Build the \"Underfit\" model"
      ]
    },
    {
      "cell_type": "code",
      "metadata": {
        "id": "tjyqmKrl87WT",
        "colab_type": "code",
        "outputId": "55be346e-ae80-4e64-e18f-783d10f1038a",
        "colab": {
          "base_uri": "https://localhost:8080/",
          "height": 170
        }
      },
      "source": [
        "# set up the layers\n",
        "\n",
        "model = keras.Sequential([\n",
        "    keras.layers.Flatten(input_shape=(28, 28)),\n",
        "    keras.layers.Dense(128, activation=tf.nn.relu),\n",
        "    tf.keras.layers.Dropout(0.3),\n",
        "    keras.layers.Dense(10, activation=tf.nn.softmax)\n",
        "])\n",
        "\n",
        "# compile the model\n",
        "\n",
        "model.compile(optimizer='adam',\n",
        "             loss='sparse_categorical_crossentropy',\n",
        "             metrics=['accuracy'])\n",
        "\n",
        "# train the model\n",
        "epochs = 4\n",
        "history = model.fit(train_images, \n",
        "                      train_labels, \n",
        "                      epochs=epochs,  \n",
        "                      validation_data=(test_images, test_labels))"
      ],
      "execution_count": 0,
      "outputs": [
        {
          "output_type": "stream",
          "text": [
            "Train on 60000 samples, validate on 10000 samples\n",
            "Epoch 1/4\n",
            "60000/60000 [==============================] - 6s 102us/sample - loss: 0.5481 - acc: 0.8061 - val_loss: 0.4308 - val_acc: 0.8438\n",
            "Epoch 2/4\n",
            "60000/60000 [==============================] - 6s 97us/sample - loss: 0.4205 - acc: 0.8472 - val_loss: 0.4015 - val_acc: 0.8554\n",
            "Epoch 3/4\n",
            "60000/60000 [==============================] - 6s 95us/sample - loss: 0.3873 - acc: 0.8575 - val_loss: 0.3936 - val_acc: 0.8542\n",
            "Epoch 4/4\n",
            "60000/60000 [==============================] - 6s 97us/sample - loss: 0.3643 - acc: 0.8661 - val_loss: 0.3674 - val_acc: 0.8680\n"
          ],
          "name": "stdout"
        }
      ]
    },
    {
      "cell_type": "markdown",
      "metadata": {
        "id": "ij3dwIzL9Jmr",
        "colab_type": "text"
      },
      "source": [
        "###Evaluate \"Underfit\" accuracy"
      ]
    },
    {
      "cell_type": "code",
      "metadata": {
        "id": "bSRauvSP9UUM",
        "colab_type": "code",
        "outputId": "058e55b8-bdb8-4f76-e968-afa404146a96",
        "colab": {
          "base_uri": "https://localhost:8080/",
          "height": 51
        }
      },
      "source": [
        "test_loss, test_acc = model.evaluate(test_images, test_labels)\n",
        "\n",
        "print('Test accuracy:', test_acc)"
      ],
      "execution_count": 0,
      "outputs": [
        {
          "output_type": "stream",
          "text": [
            "10000/10000 [==============================] - 0s 40us/sample - loss: 0.3674 - acc: 0.8680\n",
            "Test accuracy: 0.868\n"
          ],
          "name": "stdout"
        }
      ]
    },
    {
      "cell_type": "markdown",
      "metadata": {
        "id": "N2Bboyoz9_kn",
        "colab_type": "text"
      },
      "source": [
        "###\"Underfit\" Training/test loss/accuracy during training"
      ]
    },
    {
      "cell_type": "code",
      "metadata": {
        "id": "-NiwgC9O-Fzd",
        "colab_type": "code",
        "colab": {}
      },
      "source": [
        "history_dict = history.history\n",
        "loss_values = history_dict['loss']\n",
        "test_loss_values = history_dict['val_loss']\n",
        "epochs_range = range(1, epochs+1)"
      ],
      "execution_count": 0,
      "outputs": []
    },
    {
      "cell_type": "code",
      "metadata": {
        "id": "429ju0Gf-GkJ",
        "colab_type": "code",
        "outputId": "1a288d63-7d8a-43f9-d29e-f7163efcfe2e",
        "colab": {
          "base_uri": "https://localhost:8080/",
          "height": 295
        }
      },
      "source": [
        "plt.plot(epochs_range, loss_values, 'bo', label='Training loss')\n",
        "plt.plot(epochs_range, test_loss_values, 'ro', label='Test loss')\n",
        "plt.title('\\\"Underfit\\\" - Training and test loss')\n",
        "plt.xlabel('Epochs')\n",
        "plt.ylabel('Loss')\n",
        "plt.legend()\n",
        "plt.show()"
      ],
      "execution_count": 0,
      "outputs": [
        {
          "output_type": "display_data",
          "data": {
            "image/png": "[encoded data removed]",
            "text/plain": [
              "<Figure size 432x288 with 1 Axes>"
            ]
          },
          "metadata": {
            "tags": []
          }
        }
      ]
    },
    {
      "cell_type": "code",
      "metadata": {
        "id": "Dm0u9txK-GY9",
        "colab_type": "code",
        "colab": {}
      },
      "source": [
        "acc_values = history_dict['acc']\n",
        "test_acc_values = history_dict['val_acc']"
      ],
      "execution_count": 0,
      "outputs": []
    },
    {
      "cell_type": "code",
      "metadata": {
        "id": "Y9rRqFhj-GEy",
        "colab_type": "code",
        "outputId": "e8f97915-fab1-44ed-d464-ef2c5987040c",
        "colab": {
          "base_uri": "https://localhost:8080/",
          "height": 295
        }
      },
      "source": [
        "plt.plot(epochs_range, acc_values, 'bo', label='Training accuracy')\n",
        "plt.plot(epochs_range, test_acc_values, 'ro', label='Test accuracy')\n",
        "plt.title('\\\"Underfit\\\" - Training and test accuracy')\n",
        "plt.xlabel('Epochs')\n",
        "plt.ylabel('Accuracy')\n",
        "plt.legend()\n",
        "plt.show()"
      ],
      "execution_count": 0,
      "outputs": [
        {
          "output_type": "display_data",
          "data": {
            "image/png": "[encoded data removed]",
            "text/plain": [
              "<Figure size 432x288 with 1 Axes>"
            ]
          },
          "metadata": {
            "tags": []
          }
        }
      ]
    },
    {
      "cell_type": "markdown",
      "metadata": {
        "id": "2sdCMu6oI_pX",
        "colab_type": "text"
      },
      "source": [
        "##Overfit Model"
      ]
    },
    {
      "cell_type": "markdown",
      "metadata": {
        "id": "OA975wHjOJI-",
        "colab_type": "text"
      },
      "source": [
        "### Build the \"Overfit\" model"
      ]
    },
    {
      "cell_type": "code",
      "metadata": {
        "id": "ZX6SGTpMOIKN",
        "colab_type": "code",
        "outputId": "153fe1bf-fd0f-4ae3-b77d-396b735b3c90",
        "colab": {
          "base_uri": "https://localhost:8080/",
          "height": 714
        }
      },
      "source": [
        "# set up the layers\n",
        "\n",
        "model = keras.Sequential([\n",
        "    keras.layers.Flatten(input_shape=(28, 28)),\n",
        "    keras.layers.Dense(128, activation=tf.nn.relu),\n",
        "    keras.layers.Dense(10, activation=tf.nn.softmax)\n",
        "])\n",
        "\n",
        "# compile the model\n",
        "\n",
        "model.compile(optimizer='adam',\n",
        "             loss='sparse_categorical_crossentropy',\n",
        "             metrics=['accuracy'])\n",
        "\n",
        "# train the model\n",
        "epochs = 20\n",
        "history = model.fit(train_images, \n",
        "                      train_labels, \n",
        "                      epochs=epochs,  \n",
        "                      validation_data=(test_images, test_labels))"
      ],
      "execution_count": 0,
      "outputs": [
        {
          "output_type": "stream",
          "text": [
            "Train on 60000 samples, validate on 10000 samples\n",
            "Epoch 1/20\n",
            "60000/60000 [==============================] - 5s 84us/sample - loss: 0.4981 - acc: 0.8250 - val_loss: 0.4361 - val_acc: 0.8425\n",
            "Epoch 2/20\n",
            "60000/60000 [==============================] - 5s 82us/sample - loss: 0.3766 - acc: 0.8640 - val_loss: 0.3903 - val_acc: 0.8632\n",
            "Epoch 3/20\n",
            "60000/60000 [==============================] - 5s 85us/sample - loss: 0.3377 - acc: 0.8775 - val_loss: 0.3738 - val_acc: 0.8616\n",
            "Epoch 4/20\n",
            "60000/60000 [==============================] - 5s 83us/sample - loss: 0.3124 - acc: 0.8866 - val_loss: 0.3621 - val_acc: 0.8695\n",
            "Epoch 5/20\n",
            "60000/60000 [==============================] - 5s 82us/sample - loss: 0.2962 - acc: 0.8908 - val_loss: 0.3555 - val_acc: 0.8720\n",
            "Epoch 6/20\n",
            "60000/60000 [==============================] - 5s 83us/sample - loss: 0.2806 - acc: 0.8961 - val_loss: 0.3511 - val_acc: 0.8776\n",
            "Epoch 7/20\n",
            "60000/60000 [==============================] - 5s 82us/sample - loss: 0.2667 - acc: 0.9009 - val_loss: 0.3361 - val_acc: 0.8777\n",
            "Epoch 8/20\n",
            "60000/60000 [==============================] - 5s 83us/sample - loss: 0.2593 - acc: 0.9032 - val_loss: 0.3362 - val_acc: 0.8845\n",
            "Epoch 9/20\n",
            "60000/60000 [==============================] - 5s 82us/sample - loss: 0.2498 - acc: 0.9076 - val_loss: 0.3412 - val_acc: 0.8774\n",
            "Epoch 10/20\n",
            "60000/60000 [==============================] - 5s 81us/sample - loss: 0.2403 - acc: 0.9099 - val_loss: 0.3532 - val_acc: 0.8797\n",
            "Epoch 11/20\n",
            "60000/60000 [==============================] - 5s 81us/sample - loss: 0.2321 - acc: 0.9128 - val_loss: 0.3304 - val_acc: 0.8834\n",
            "Epoch 12/20\n",
            "60000/60000 [==============================] - 5s 82us/sample - loss: 0.2248 - acc: 0.9151 - val_loss: 0.3383 - val_acc: 0.8787\n",
            "Epoch 13/20\n",
            "60000/60000 [==============================] - 5s 83us/sample - loss: 0.2178 - acc: 0.9191 - val_loss: 0.3418 - val_acc: 0.8849\n",
            "Epoch 14/20\n",
            "60000/60000 [==============================] - 5s 82us/sample - loss: 0.2104 - acc: 0.9217 - val_loss: 0.3324 - val_acc: 0.8885\n",
            "Epoch 15/20\n",
            "60000/60000 [==============================] - 5s 78us/sample - loss: 0.2040 - acc: 0.9241 - val_loss: 0.3426 - val_acc: 0.8875\n",
            "Epoch 16/20\n",
            "60000/60000 [==============================] - 5s 79us/sample - loss: 0.1997 - acc: 0.9246 - val_loss: 0.3292 - val_acc: 0.8886\n",
            "Epoch 17/20\n",
            "60000/60000 [==============================] - 5s 80us/sample - loss: 0.1931 - acc: 0.9275 - val_loss: 0.3548 - val_acc: 0.8834\n",
            "Epoch 18/20\n",
            "60000/60000 [==============================] - 5s 81us/sample - loss: 0.1900 - acc: 0.9282 - val_loss: 0.3408 - val_acc: 0.8920\n",
            "Epoch 19/20\n",
            "60000/60000 [==============================] - 5s 79us/sample - loss: 0.1828 - acc: 0.9312 - val_loss: 0.3671 - val_acc: 0.8840\n",
            "Epoch 20/20\n",
            "60000/60000 [==============================] - 5s 81us/sample - loss: 0.1813 - acc: 0.9320 - val_loss: 0.3655 - val_acc: 0.8875\n"
          ],
          "name": "stdout"
        }
      ]
    },
    {
      "cell_type": "markdown",
      "metadata": {
        "id": "mORb9IwPP7oE",
        "colab_type": "text"
      },
      "source": [
        "### Evaluate \"Overfit\" accuracy"
      ]
    },
    {
      "cell_type": "code",
      "metadata": {
        "id": "rlKIF6ijOkiE",
        "colab_type": "code",
        "outputId": "9515553c-59c6-40a1-d9f9-7330ac4e9a80",
        "colab": {
          "base_uri": "https://localhost:8080/",
          "height": 51
        }
      },
      "source": [
        "test_loss, test_acc = model.evaluate(test_images, test_labels)\n",
        "\n",
        "print('Test accuracy:', test_acc)"
      ],
      "execution_count": 0,
      "outputs": [
        {
          "output_type": "stream",
          "text": [
            "10000/10000 [==============================] - 0s 36us/sample - loss: 0.3655 - acc: 0.8875\n",
            "Test accuracy: 0.8875\n"
          ],
          "name": "stdout"
        }
      ]
    },
    {
      "cell_type": "markdown",
      "metadata": {
        "id": "A4_diOE4QOqo",
        "colab_type": "text"
      },
      "source": [
        "It turns out, the accuracy on the test dataset is a little less than the accuracy on the training dataset. \n",
        "\n",
        "This gap between training accuracy and test accuracy is an example of **overfitting**. Overfitting is when a machine learning model performs worse on new data than on their training data.\n",
        "\n"
      ]
    },
    {
      "cell_type": "markdown",
      "metadata": {
        "id": "GqbGdV6oXEyP",
        "colab_type": "text"
      },
      "source": [
        "### \"Overfit\" Training/test loss/accuracy during training"
      ]
    },
    {
      "cell_type": "code",
      "metadata": {
        "id": "3b5OCE5YTrEc",
        "colab_type": "code",
        "colab": {}
      },
      "source": [
        "history_dict = history.history\n",
        "loss_values = history_dict['loss']\n",
        "test_loss_values = history_dict['val_loss']\n",
        "epochs_range = range(1, epochs+1)"
      ],
      "execution_count": 0,
      "outputs": []
    },
    {
      "cell_type": "code",
      "metadata": {
        "id": "y98AOblYT3Pk",
        "colab_type": "code",
        "outputId": "bf9861f2-07db-4d0e-e6af-3be63a94b8b4",
        "colab": {
          "base_uri": "https://localhost:8080/",
          "height": 295
        }
      },
      "source": [
        "plt.plot(epochs_range, loss_values, 'bo', label='Training loss')\n",
        "plt.plot(epochs_range, test_loss_values, 'ro', label='Test loss')\n",
        "plt.title('\\\"Overfit\\\" - Training and test loss')\n",
        "plt.xlabel('Epochs')\n",
        "plt.ylabel('Loss')\n",
        "plt.legend()\n",
        "plt.show()"
      ],
      "execution_count": 0,
      "outputs": [
        {
          "output_type": "display_data",
          "data": {
            "image/png": "[encoded data removed]",
            "text/plain": [
              "<Figure size 432x288 with 1 Axes>"
            ]
          },
          "metadata": {
            "tags": []
          }
        }
      ]
    },
    {
      "cell_type": "code",
      "metadata": {
        "id": "790AkDaTWuZU",
        "colab_type": "code",
        "colab": {}
      },
      "source": [
        "acc_values = history_dict['acc']\n",
        "test_acc_values = history_dict['val_acc']"
      ],
      "execution_count": 0,
      "outputs": []
    },
    {
      "cell_type": "code",
      "metadata": {
        "id": "7BkIfPQ4W39E",
        "colab_type": "code",
        "outputId": "dc0a6cdc-102c-4401-87f0-66b5f7cd9989",
        "colab": {
          "base_uri": "https://localhost:8080/",
          "height": 295
        }
      },
      "source": [
        "plt.plot(epochs_range, acc_values, 'bo', label='Training accuracy')\n",
        "plt.plot(epochs_range, test_acc_values, 'ro', label='Test accuracy')\n",
        "plt.title('\\\"Overfit\\\" - Training and test accuracy')\n",
        "plt.xlabel('Epochs')\n",
        "plt.ylabel('Accuracy')\n",
        "plt.legend()\n",
        "plt.show()"
      ],
      "execution_count": 0,
      "outputs": [
        {
          "output_type": "display_data",
          "data": {
            "image/png": "[encoded data removed]",
            "text/plain": [
              "<Figure size 432x288 with 1 Axes>"
            ]
          },
          "metadata": {
            "tags": []
          }
        }
      ]
    },
    {
      "cell_type": "markdown",
      "metadata": {
        "id": "vqksbwjyJM96",
        "colab_type": "text"
      },
      "source": [
        "##\"Just Right\" Model"
      ]
    },
    {
      "cell_type": "markdown",
      "metadata": {
        "colab_type": "text",
        "id": "soo_Sv_v_kzJ"
      },
      "source": [
        "### Build the \"Just Right\" model"
      ]
    },
    {
      "cell_type": "code",
      "metadata": {
        "colab_type": "code",
        "outputId": "01573214-8391-4285-a1fd-97a88119e283",
        "id": "AzzG3ZyU_kzW",
        "colab": {
          "base_uri": "https://localhost:8080/",
          "height": 544
        }
      },
      "source": [
        "# set up the layers\n",
        "\n",
        "model = keras.Sequential()\n",
        "model.add(keras.layers.Flatten(input_shape=(28, 28)))\n",
        "model.add(keras.layers.Dense(256, activation=tf.nn.relu))\n",
        "model.add(tf.keras.layers.Dropout(0.5))\n",
        "model.add(keras.layers.Dense(256, activation=tf.nn.relu))\n",
        "model.add(tf.keras.layers.Dropout(0.5))\n",
        "model.add(keras.layers.Dense(10, activation=tf.nn.softmax))\n",
        "\n",
        "\n",
        "# compile the model\n",
        "\n",
        "model.compile(optimizer='adam',\n",
        "             loss='sparse_categorical_crossentropy',\n",
        "             metrics=['accuracy'])\n",
        "\n",
        "# train the model\n",
        "epochs = 15\n",
        "batch_size = 64\n",
        "history = model.fit(train_images, \n",
        "                      train_labels, \n",
        "                      batch_size = batch_size,                    \n",
        "                      epochs=epochs,  \n",
        "                      validation_data=(test_images, test_labels))"
      ],
      "execution_count": 0,
      "outputs": [
        {
          "output_type": "stream",
          "text": [
            "Train on 60000 samples, validate on 10000 samples\n",
            "Epoch 1/15\n",
            "60000/60000 [==============================] - 7s 119us/sample - loss: 0.6716 - acc: 0.7589 - val_loss: 0.4495 - val_acc: 0.8410\n",
            "Epoch 2/15\n",
            "60000/60000 [==============================] - 7s 115us/sample - loss: 0.4901 - acc: 0.8247 - val_loss: 0.4313 - val_acc: 0.8421\n",
            "Epoch 3/15\n",
            "60000/60000 [==============================] - 6s 108us/sample - loss: 0.4507 - acc: 0.8380 - val_loss: 0.3975 - val_acc: 0.8549\n",
            "Epoch 4/15\n",
            "60000/60000 [==============================] - 7s 115us/sample - loss: 0.4312 - acc: 0.8440 - val_loss: 0.3909 - val_acc: 0.8572\n",
            "Epoch 5/15\n",
            "60000/60000 [==============================] - 7s 115us/sample - loss: 0.4170 - acc: 0.8503 - val_loss: 0.3768 - val_acc: 0.8622\n",
            "Epoch 6/15\n",
            "60000/60000 [==============================] - 7s 121us/sample - loss: 0.3998 - acc: 0.8548 - val_loss: 0.3709 - val_acc: 0.8660\n",
            "Epoch 7/15\n",
            "60000/60000 [==============================] - 7s 122us/sample - loss: 0.3954 - acc: 0.8558 - val_loss: 0.3678 - val_acc: 0.8652\n",
            "Epoch 8/15\n",
            "60000/60000 [==============================] - 7s 112us/sample - loss: 0.3840 - acc: 0.8599 - val_loss: 0.3684 - val_acc: 0.8690\n",
            "Epoch 9/15\n",
            "60000/60000 [==============================] - 7s 110us/sample - loss: 0.3792 - acc: 0.8628 - val_loss: 0.3737 - val_acc: 0.8658\n",
            "Epoch 10/15\n",
            "60000/60000 [==============================] - 7s 114us/sample - loss: 0.3765 - acc: 0.8632 - val_loss: 0.3636 - val_acc: 0.8680\n",
            "Epoch 11/15\n",
            "60000/60000 [==============================] - 7s 113us/sample - loss: 0.3634 - acc: 0.8677 - val_loss: 0.3559 - val_acc: 0.8728\n",
            "Epoch 12/15\n",
            "60000/60000 [==============================] - 7s 109us/sample - loss: 0.3604 - acc: 0.8677 - val_loss: 0.3444 - val_acc: 0.8764\n",
            "Epoch 13/15\n",
            "60000/60000 [==============================] - 7s 113us/sample - loss: 0.3551 - acc: 0.8698 - val_loss: 0.3491 - val_acc: 0.8744\n",
            "Epoch 14/15\n",
            "60000/60000 [==============================] - 7s 116us/sample - loss: 0.3511 - acc: 0.8715 - val_loss: 0.3464 - val_acc: 0.8740\n",
            "Epoch 15/15\n",
            "60000/60000 [==============================] - 7s 117us/sample - loss: 0.3478 - acc: 0.8734 - val_loss: 0.3420 - val_acc: 0.8777\n"
          ],
          "name": "stdout"
        }
      ]
    },
    {
      "cell_type": "markdown",
      "metadata": {
        "colab_type": "text",
        "id": "JbZDTY4A_kzi"
      },
      "source": [
        "### Evaluate \"Just Right\" accuracy"
      ]
    },
    {
      "cell_type": "code",
      "metadata": {
        "colab_type": "code",
        "outputId": "a9c9575f-df3a-498c-f7a8-67ee77d57c3d",
        "id": "KxAUdGcq_kzk",
        "colab": {
          "base_uri": "https://localhost:8080/",
          "height": 51
        }
      },
      "source": [
        "test_loss, test_acc = model.evaluate(test_images, test_labels)\n",
        "\n",
        "print('Test accuracy:', test_acc)"
      ],
      "execution_count": 0,
      "outputs": [
        {
          "output_type": "stream",
          "text": [
            "10000/10000 [==============================] - 1s 54us/sample - loss: 0.3420 - acc: 0.8777\n",
            "Test accuracy: 0.8777\n"
          ],
          "name": "stdout"
        }
      ]
    },
    {
      "cell_type": "markdown",
      "metadata": {
        "colab_type": "text",
        "id": "0YctE2gB_kzr"
      },
      "source": [
        "### \"Just Right\" Training/test loss/accuracy during training"
      ]
    },
    {
      "cell_type": "code",
      "metadata": {
        "colab_type": "code",
        "id": "EYKF2c7I_kzs",
        "colab": {}
      },
      "source": [
        "history_dict = history.history\n",
        "loss_values = history_dict['loss']\n",
        "test_loss_values = history_dict['val_loss']\n",
        "epochs_range = range(1, epochs+1)"
      ],
      "execution_count": 0,
      "outputs": []
    },
    {
      "cell_type": "code",
      "metadata": {
        "colab_type": "code",
        "outputId": "2ed436ba-11ed-4b84-e5b3-4db81aca87f6",
        "id": "4QlW0w6i_kzv",
        "colab": {
          "base_uri": "https://localhost:8080/",
          "height": 295
        }
      },
      "source": [
        "plt.plot(epochs_range, loss_values, 'bo', label='Training loss')\n",
        "plt.plot(epochs_range, test_loss_values, 'ro', label='Test loss')\n",
        "plt.title('\\\"Just Right\\\" - Training and test loss')\n",
        "plt.xlabel('Epochs')\n",
        "plt.ylabel('Loss')\n",
        "plt.legend()\n",
        "plt.show()"
      ],
      "execution_count": 0,
      "outputs": [
        {
          "output_type": "display_data",
          "data": {
            "image/png": "[encoded data removed]",
            "text/plain": [
              "<Figure size 432x288 with 1 Axes>"
            ]
          },
          "metadata": {
            "tags": []
          }
        }
      ]
    },
    {
      "cell_type": "code",
      "metadata": {
        "colab_type": "code",
        "id": "R7Py6_wn_kzy",
        "colab": {}
      },
      "source": [
        "acc_values = history_dict['acc']\n",
        "test_acc_values = history_dict['val_acc']"
      ],
      "execution_count": 0,
      "outputs": []
    },
    {
      "cell_type": "code",
      "metadata": {
        "colab_type": "code",
        "outputId": "bb76ae72-45dd-498d-91eb-c156466e01ca",
        "id": "8mOkjQbX_kz1",
        "colab": {
          "base_uri": "https://localhost:8080/",
          "height": 295
        }
      },
      "source": [
        "plt.plot(epochs_range, acc_values, 'bo', label='Training accuracy')\n",
        "plt.plot(epochs_range, test_acc_values, 'ro', label='Test accuracy')\n",
        "plt.title('\\\"Just Right\\\" - Training and test accuracy')\n",
        "plt.xlabel('Epochs')\n",
        "plt.ylabel('Accuracy')\n",
        "plt.legend()\n",
        "plt.show()"
      ],
      "execution_count": 0,
      "outputs": [
        {
          "output_type": "display_data",
          "data": {
            "image/png": "[encoded data removed]",
            "text/plain": [
              "<Figure size 432x288 with 1 Axes>"
            ]
          },
          "metadata": {
            "tags": []
          }
        }
      ]
    }
  ]
}