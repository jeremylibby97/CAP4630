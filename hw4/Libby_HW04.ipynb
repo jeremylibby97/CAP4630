{
  "nbformat": 4,
  "nbformat_minor": 0,
  "metadata": {
    "colab": {
      "name": "Libby_HW04",
      "provenance": []
    },
    "kernelspec": {
      "name": "python3",
      "display_name": "Python 3"
    }
  },
  "cells": [
    {
      "cell_type": "markdown",
      "metadata": {
        "id": "pFbFO6ULn5aO",
        "colab_type": "text"
      },
      "source": [
        "#0 - General Concepts"
      ]
    },
    {
      "cell_type": "markdown",
      "metadata": {
        "id": "u0UORusasJc0",
        "colab_type": "text"
      },
      "source": [
        "##Artificial Intelligence"
      ]
    },
    {
      "cell_type": "markdown",
      "metadata": {
        "id": "3gpRGgkbr9gV",
        "colab_type": "text"
      },
      "source": [
        "Artificial intelligence has many definitions, but they all boil down to simulating human intelligence using machines. In other words, artificial intelligence is a branch of computing dealing with the simulation of learning and intelligent behavior in machines; we are trying to make machines imitate human intellect."
      ]
    },
    {
      "cell_type": "markdown",
      "metadata": {
        "id": "jwAARKOrsIaF",
        "colab_type": "text"
      },
      "source": [
        "##Machine Learning"
      ]
    },
    {
      "cell_type": "markdown",
      "metadata": {
        "id": "rQB5djFCsDtD",
        "colab_type": "text"
      },
      "source": [
        "Machine learning is a branch of artificial intelligence and deals with giving a computer the ability to gain knowledge without being explicitly programmed to do so. In other words, machine learning occurs when a computer adjusts itself based on data it has been exposed to."
      ]
    },
    {
      "cell_type": "markdown",
      "metadata": {
        "id": "2IG90N-2sObM",
        "colab_type": "text"
      },
      "source": [
        "##Deep Learning"
      ]
    },
    {
      "cell_type": "markdown",
      "metadata": {
        "id": "x6fqe6q1sD9E",
        "colab_type": "text"
      },
      "source": [
        "Deep learning is a subset of machine learning, where artificial neural networks are created to simulate the human brain. Here, the computer learns from exposure to many different datasets and perform a task repeatedly until it is closer to a specific outcome."
      ]
    },
    {
      "cell_type": "markdown",
      "metadata": {
        "id": "3h_j1QpisVnv",
        "colab_type": "text"
      },
      "source": [
        "#1 - Building a Model"
      ]
    },
    {
      "cell_type": "markdown",
      "metadata": {
        "id": "lkHtfVfV3WQH",
        "colab_type": "text"
      },
      "source": [
        "For this exercise, we will be building a convultional neural network over the CIFAR-10 dataset, which is a dataset containing 60,000 32x32 colored images of 10 different classes. 50,000 of those images belong to the training set and 10,000 of those belong to the test set.\n",
        "\n",
        "In machine learning, the training set is the set of images that the model will be using to fit to the paramets and the test set is the set of images containing an unbiased evaluation of a final model fit on the training dataset"
      ]
    },
    {
      "cell_type": "markdown",
      "metadata": {
        "id": "V_wINPI1tkc1",
        "colab_type": "text"
      },
      "source": [
        "##Initialization of CIFAR10\n",
        "\n"
      ]
    },
    {
      "cell_type": "code",
      "metadata": {
        "id": "bmCPQrBGtWa3",
        "colab_type": "code",
        "colab": {
          "base_uri": "https://localhost:8080/",
          "height": 51
        },
        "outputId": "e8e07cc0-6bb1-421c-9059-445bb807814c"
      },
      "source": [
        "#Importing tensorflow, keras, matplotlib, and numpy\n",
        "import tensorflow as tf\n",
        "from tensorflow import keras\n",
        "import matplotlib.pyplot as plt\n",
        "import numpy as np\n",
        "\n",
        "#Loading CIFAR10\n",
        "from keras.datasets import cifar10\n",
        "(train_images, train_labels), (test_images, test_labels) = cifar10.load_data()\n",
        "\n",
        "#Normalize images\n",
        "train_images = train_images.astype('float32')\n",
        "test_images = test_images.astype('float32')\n",
        "train_images = train_images / 255.0\n",
        "test_images = test_images / 255.0\n",
        "\n",
        "#Cateforize labels\n",
        "from keras.utils import to_categorical\n",
        "train_labels = to_categorical(train_labels)\n",
        "test_labels = to_categorical(test_labels)\n",
        "num_classes = test_labels.shape[1]\n",
        "\n",
        "print(\"train_images shape:\\t\",train_images.shape)\n",
        "print(\"test_images shape:\\t\", test_images.shape)"
      ],
      "execution_count": 26,
      "outputs": [
        {
          "output_type": "stream",
          "text": [
            "train_images shape:\t (50000, 32, 32, 3)\n",
            "test_images shape:\t (10000, 32, 32, 3)\n"
          ],
          "name": "stdout"
        }
      ]
    },
    {
      "cell_type": "markdown",
      "metadata": {
        "id": "n0ZgXmHxyV2S",
        "colab_type": "text"
      },
      "source": [
        "##Building a CNN"
      ]
    },
    {
      "cell_type": "code",
      "metadata": {
        "id": "umlNeunzti_w",
        "colab_type": "code",
        "colab": {}
      },
      "source": [
        "from keras.preprocessing.image import ImageDataGenerator\n",
        "from tensorflow.keras.models import Sequential\n",
        "from tensorflow.keras.layers import Conv2D, Flatten, MaxPooling2D, Dropout, Dense, Activation\n",
        "from tensorflow.keras.layers import BatchNormalization\n",
        "from tensorflow.keras.constraints import max_norm\n",
        "from tensorflow.keras.optimizers import SGD\n",
        "\n",
        "model = tf.keras.Sequential()\n",
        "\n",
        "model.add(Conv2D(32, (3, 3), activation='relu', input_shape=train_images.shape[1:]))\n",
        "model.add(MaxPooling2D((2, 2)))\n",
        "model.add(Conv2D(64, (3, 3), activation='relu'))\n",
        "model.add(MaxPooling2D(2, 2))\n",
        "model.add(Conv2D(64, (3, 3), activation='relu'))\n",
        "model.add(Dropout(0.25))\n",
        "model.add(Flatten())\n",
        "model.add(Dense(64, activation='relu'))\n",
        "model.add(Dropout(0.5))\n",
        "model.add(Dense(10, activation='softmax'))"
      ],
      "execution_count": 0,
      "outputs": []
    },
    {
      "cell_type": "code",
      "metadata": {
        "id": "pzMn5GHY1ob_",
        "colab_type": "code",
        "colab": {
          "base_uri": "https://localhost:8080/",
          "height": 493
        },
        "outputId": "86d3f50c-71b3-4eaa-9ce1-030f25364919"
      },
      "source": [
        "model.summary()"
      ],
      "execution_count": 23,
      "outputs": [
        {
          "output_type": "stream",
          "text": [
            "Model: \"sequential_11\"\n",
            "_________________________________________________________________\n",
            "Layer (type)                 Output Shape              Param #   \n",
            "=================================================================\n",
            "conv2d_12 (Conv2D)           (None, 30, 30, 32)        896       \n",
            "_________________________________________________________________\n",
            "max_pooling2d_12 (MaxPooling (None, 15, 15, 32)        0         \n",
            "_________________________________________________________________\n",
            "conv2d_13 (Conv2D)           (None, 13, 13, 64)        18496     \n",
            "_________________________________________________________________\n",
            "max_pooling2d_13 (MaxPooling (None, 6, 6, 64)          0         \n",
            "_________________________________________________________________\n",
            "conv2d_14 (Conv2D)           (None, 4, 4, 64)          36928     \n",
            "_________________________________________________________________\n",
            "dropout_14 (Dropout)         (None, 4, 4, 64)          0         \n",
            "_________________________________________________________________\n",
            "flatten_9 (Flatten)          (None, 1024)              0         \n",
            "_________________________________________________________________\n",
            "dense_19 (Dense)             (None, 64)                65600     \n",
            "_________________________________________________________________\n",
            "dropout_15 (Dropout)         (None, 64)                0         \n",
            "_________________________________________________________________\n",
            "dense_20 (Dense)             (None, 10)                650       \n",
            "=================================================================\n",
            "Total params: 122,570\n",
            "Trainable params: 122,570\n",
            "Non-trainable params: 0\n",
            "_________________________________________________________________\n"
          ],
          "name": "stdout"
        }
      ]
    },
    {
      "cell_type": "markdown",
      "metadata": {
        "id": "GwLZ_XJm3aAY",
        "colab_type": "text"
      },
      "source": [
        "###Explanation"
      ]
    },
    {
      "cell_type": "markdown",
      "metadata": {
        "id": "tQEUpAXf2uZV",
        "colab_type": "text"
      },
      "source": [
        "From the above, we can see that we have created a convolutional neural network (CNN), which is simply a neural network that uses some form of convolution. A CNN works on images by finding important aspects or patterns in an image and highlighting them to help recognize patterns in the dataset; CNN's take advantage of patterns in images and uses them to help categorize each image for the layer.\n",
        "\n",
        "In our model, we use a combination of convolutional layers and maxpooling to highlight features of the image then downsampling the image to help the network recognize these patterns. We then use \"dropout\" to randomly remove data from our network to help avoid overfitting - by using dropout, we remove some of the codependency some neurons have on each other.\n",
        "\n",
        "We then flatten our output to turn it into a column vector and use a dense layer to classify these outputs.\n",
        "\n",
        "Finally, we use one last dense layer with softmax activation to get the probability distribution of what class an item is in. It should be noted that the softmax function returns a value from 0-1, and we can therefore use it to create a probability distribution of what class an item is in.\n",
        "\n",
        "We assume the class with the highest probability is our item."
      ]
    },
    {
      "cell_type": "markdown",
      "metadata": {
        "id": "7IuDrusOsZxf",
        "colab_type": "text"
      },
      "source": [
        "#2 - Compiling a Model"
      ]
    },
    {
      "cell_type": "code",
      "metadata": {
        "id": "o_4t_uSLynWw",
        "colab_type": "code",
        "colab": {}
      },
      "source": [
        "model.compile(optimizer='rmsprop', \n",
        "              loss='categorical_crossentropy', \n",
        "              metrics=['accuracy'])"
      ],
      "execution_count": 0,
      "outputs": []
    },
    {
      "cell_type": "markdown",
      "metadata": {
        "id": "avRvWpuq7S9V",
        "colab_type": "text"
      },
      "source": [
        "Compiling your model requires it to have an optimizer and a loss function.\n",
        "\n",
        "In machine learning, an optimizer is a function or algorithm used to change the attributes of your model to help reduce loss. These attributes include the model's learning rate (a tuning parameter used to calculate the step size at each iteration when moving toward the minimum of a loss function) and the weights.\n",
        "\n",
        "Weights correspond to the strength of the connection between nodes; the lower the weight, the less change a node will see.\n",
        "\n",
        "The loss function will give us meaningful information about the incorrect labeling of an object. For example, the categorical crossentropy loss function, which is the loss function our model uses, is used when each image belongs to one class (single label data classification) and compares the probability distribution obtained by our softmax function with the true distribution. In other words, categorical crossentropy is used when your output belongs only to one class, and the closer a model's output is to the true output, the lower the loss.\n",
        "\n",
        "Other loss functions include squared loss and mean squared loss (used in linear regression models), Huber loss (used in robust regression and is sensitive to outliers), Poisson (used for regression when modeling count data), and Cosine proximity."
      ]
    },
    {
      "cell_type": "markdown",
      "metadata": {
        "id": "-r-7R9uUsZ5u",
        "colab_type": "text"
      },
      "source": [
        "#3 - Training a Model"
      ]
    },
    {
      "cell_type": "code",
      "metadata": {
        "id": "7628-Qf6ypZZ",
        "colab_type": "code",
        "colab": {
          "base_uri": "https://localhost:8080/",
          "height": 374
        },
        "outputId": "da9f6d2b-6c9c-4f44-bdfb-365c546406f0"
      },
      "source": [
        "epochs = 10\n",
        "batch_size = 64\n",
        "history = model.fit(train_images, train_labels, batch_size=batch_size, epochs=epochs, validation_data=(test_images,test_labels))"
      ],
      "execution_count": 21,
      "outputs": [
        {
          "output_type": "stream",
          "text": [
            "Train on 50000 samples, validate on 10000 samples\n",
            "Epoch 1/10\n",
            "50000/50000 [==============================] - 65s 1ms/sample - loss: 1.7756 - acc: 0.3515 - val_loss: 1.6218 - val_acc: 0.4274\n",
            "Epoch 2/10\n",
            "50000/50000 [==============================] - 64s 1ms/sample - loss: 1.4204 - acc: 0.4974 - val_loss: 1.3811 - val_acc: 0.5103\n",
            "Epoch 3/10\n",
            "50000/50000 [==============================] - 64s 1ms/sample - loss: 1.2608 - acc: 0.5617 - val_loss: 1.2231 - val_acc: 0.5631\n",
            "Epoch 4/10\n",
            "50000/50000 [==============================] - 64s 1ms/sample - loss: 1.1591 - acc: 0.5995 - val_loss: 1.1190 - val_acc: 0.6100\n",
            "Epoch 5/10\n",
            "50000/50000 [==============================] - 64s 1ms/sample - loss: 1.0877 - acc: 0.6279 - val_loss: 1.1686 - val_acc: 0.5988\n",
            "Epoch 6/10\n",
            "50000/50000 [==============================] - 64s 1ms/sample - loss: 1.0351 - acc: 0.6469 - val_loss: 1.0009 - val_acc: 0.6551\n",
            "Epoch 7/10\n",
            "50000/50000 [==============================] - 64s 1ms/sample - loss: 0.9965 - acc: 0.6640 - val_loss: 1.2041 - val_acc: 0.5919\n",
            "Epoch 8/10\n",
            "50000/50000 [==============================] - 64s 1ms/sample - loss: 0.9650 - acc: 0.6773 - val_loss: 0.9179 - val_acc: 0.6953\n",
            "Epoch 9/10\n",
            "50000/50000 [==============================] - 64s 1ms/sample - loss: 0.9422 - acc: 0.6843 - val_loss: 0.8902 - val_acc: 0.6974\n",
            "Epoch 10/10\n",
            "50000/50000 [==============================] - 64s 1ms/sample - loss: 0.9225 - acc: 0.6912 - val_loss: 0.9419 - val_acc: 0.6885\n"
          ],
          "name": "stdout"
        }
      ]
    },
    {
      "cell_type": "markdown",
      "metadata": {
        "id": "itDld4YUTAIQ",
        "colab_type": "text"
      },
      "source": [
        "In deep learning, an epoch corresponds to one pass of the training set. In other words, an epoch represents the amount of times an entire dataset is passed both forward and backwards through our neural network. Thus, by using more epochs, we will theoretically obtain more accurate results.\n",
        "\n",
        "The batch size corresponds to the number of images grabbed per iteration. For example, our model has a batch size of 64, therefore it will grab 64 of the 50,000 training images per iteration, resulting in our model having 782 iterations (50,000/64 = 781.25, round up for the last iteration)."
      ]
    },
    {
      "cell_type": "code",
      "metadata": {
        "id": "p-KTLbiPzD5s",
        "colab_type": "code",
        "colab": {
          "base_uri": "https://localhost:8080/",
          "height": 607
        },
        "outputId": "c0043f89-b7bd-4762-b888-7114c4afa155"
      },
      "source": [
        "test_loss, test_acc = model.evaluate(test_images, test_labels)\n",
        "\n",
        "print('Test accuracy:', test_acc)\n",
        "\n",
        "history_dict = history.history\n",
        "loss_values = history_dict['loss']\n",
        "test_loss_values = history_dict['val_loss']\n",
        "epochs_range = range(1, epochs+1)\n",
        "\n",
        "plt.plot(epochs_range, loss_values, 'bo', label='Training loss')\n",
        "plt.plot(epochs_range, test_loss_values, 'ro', label='Test loss')\n",
        "plt.title('Training and test loss')\n",
        "plt.xlabel('Epochs')\n",
        "plt.ylabel('Loss')\n",
        "plt.legend()\n",
        "plt.show()\n",
        "\n",
        "acc_values = history_dict['acc']\n",
        "test_acc_values = history_dict['val_acc']\n",
        "\n",
        "plt.plot(epochs_range, acc_values, 'bo', label='Training accuracy')\n",
        "plt.plot(epochs_range, test_acc_values, 'ro', label='Test accuracy')\n",
        "plt.title('Training and test accuracy')\n",
        "plt.xlabel('Epochs')\n",
        "plt.ylabel('Accuracy')\n",
        "plt.legend()\n",
        "plt.show()"
      ],
      "execution_count": 22,
      "outputs": [
        {
          "output_type": "stream",
          "text": [
            "10000/10000 [==============================] - 4s 412us/sample - loss: 0.9419 - acc: 0.6885\n",
            "Test accuracy: 0.6885\n"
          ],
          "name": "stdout"
        },
        {
          "output_type": "display_data",
          "data": {
            "image/png": "[encoded data removed]",
            "text/plain": [
              "<Figure size 432x288 with 1 Axes>"
            ]
          },
          "metadata": {
            "tags": []
          }
        },
        {
          "output_type": "display_data",
          "data": {
            "image/png": "[encoded data removed]",
            "text/plain": [
              "<Figure size 432x288 with 1 Axes>"
            ]
          },
          "metadata": {
            "tags": []
          }
        }
      ]
    },
    {
      "cell_type": "markdown",
      "metadata": {
        "id": "YMtwgLLVUOa5",
        "colab_type": "text"
      },
      "source": [
        "After training our model, we find that our model is a correct fit for our dataset. However, there is the possibility that our model can overfit the data or underfit the data.\n",
        "\n",
        "A model overfits a dataset when it has a low loss during training, but does a poor job categorizing new data and is caused by making a model more complex than necessary. When analyzing our training test and accuracy graph it is marked by a large distance between training loss and test loss. Similarly, overfit can be spotted when analyzing our training and test accuracies, where overfit occurs when there is a large distance between the two.\n",
        "\n",
        "On the other hand, a model will underfit a dataset when our model tells us too little about the dataset. In other words, the model can neither model the training data nor generalize new data. Thus, underfit can be spotted with poor performance on the training data."
      ]
    },
    {
      "cell_type": "markdown",
      "metadata": {
        "id": "PEw-Lu78saGO",
        "colab_type": "text"
      },
      "source": [
        "#4 - Fine Tuning a Model"
      ]
    },
    {
      "cell_type": "markdown",
      "metadata": {
        "id": "3dGs0fIDZa8r",
        "colab_type": "text"
      },
      "source": [
        "From this point, we can fine tune this model to more accurately categorize new data. The goal of fine tuning a model is to tweak its parameters to allow it to adapt to a new task or dataset, usually similar to the one it was already pre-trained in. Because of this, we avoid the process having to retrain a whole new model, which can potentially take days, and instead we just use a pre-existing model on a new dataset. \n",
        "\n",
        "To do this, we would take the old model and use it as a base, then we add additional layers to this base to help deal with the new dataset. In other words, we are taking the features of our base model (through a process known as feature extraction) and using them in a new model. "
      ]
    }
  ]
}